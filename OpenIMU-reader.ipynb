{
 "cells": [
  {
   "cell_type": "code",
   "execution_count": 2,
   "metadata": {},
   "outputs": [],
   "source": [
    "import pandas as pd\n",
    "import numpy as np\n",
    "import scipy\n",
    "from scipy import stats\n",
    "\n",
    "import matplotlib\n",
    "import matplotlib.pyplot as plt\n",
    "import matplotlib.image as mpimg\n",
    "import seaborn as sns\n",
    "\n",
    "import os\n",
    "import os.path as path\n",
    "import sys\n",
    "import re\n",
    "import json\n",
    "import datetime\n",
    "from datetime import timedelta\n",
    "\n",
    "from IPython.display import display, Markdown, Latex\n",
    "\n",
    "from utils import kde_scatter, bayesian_correlation, summary\n",
    "\n",
    "import warnings\n",
    "warnings.filterwarnings(\"ignore\", \"dropping on a non-lexsorted multi-index without a level parameter may impact performance\", append=True)\n",
    "\n",
    "\n",
    "%matplotlib inline\n",
    "%load_ext autoreload\n",
    "\n",
    "%autoreload 2"
   ]
  },
  {
   "cell_type": "code",
   "execution_count": 7,
   "metadata": {},
   "outputs": [],
   "source": [
    "sys.path.append(r\"C:\\Users\\alfoc.ULAVAL\\Desktop\\OpenIMU\\python\")\n",
    "\n",
    "from libopenimu.importers import OpenIMUImporter\n",
    "\n",
    "from libopenimu.db.DBManager import DBManager\n",
    "from libopenimu.models.Participant import Participant\n",
    "\n",
    "DATAPATH = r\"Z:\\AlexisFC\\SN\\Expedtition 2018\\RAW-Martine_OPEN_IMU_MONTRE_2018\\OPENIMU\"\n",
    "sampling_rate = 50\n",
    "sampling_rate_baro = 1\n",
    "\n",
    "oi = OpenIMUImporter.OpenIMUImporter(DBManager(\"oi.oi\"), Participant())\n",
    "\n",
    "dfs_imu  = []\n",
    "dfs_baro = []\n",
    "\n",
    "for file in [x for x in os.listdir(DATAPATH) if '.oimu' in x][:]:\n",
    "    with open(path.join(DATAPATH, file), 'rb') as f:\n",
    "        data = oi.readDataFile(f)\n",
    "        \n",
    "    # Fix wrong timestamp\n",
    "    has_corrupt_data = False\n",
    "    print('file {}, timestamp : {}'.format(file, list(data.keys())))\n",
    "    for key in list(data.keys()):\n",
    "        if key<0:\n",
    "            data.pop(key)\n",
    "            has_corrupt_data = True\n",
    "\n",
    "    for timestamp, values in data.items():\n",
    "        df_imu = pd.DataFrame(data=np.array(values['imu']), columns=['ax', 'ay', 'az', 'gx', 'gy', 'gz', 'mx', 'my', 'mz'])\n",
    "        df_imu.index  = pd.datetime.fromtimestamp(timestamp) + timedelta(seconds=1/sampling_rate) * df_imu.index\n",
    "        df_baro = pd.DataFrame(data=np.array(values['baro']), columns=['temp', 'pressure'])\n",
    "        df_baro.index = pd.datetime.fromtimestamp(timestamp) + timedelta(seconds=1/sampling_rate_baro) * df_baro.index\n",
    "        \n",
    "        dfs_imu.append(df_imu)\n",
    "        dfs_baro.append(df_baro)\n",
    "        \n",
    "dfs_imu = pd.concat(dfs_imu).sort_index()\n",
    "dfs_baro = pd.concat(dfs_baro).sort_index()"
   ]
  },
  {
   "cell_type": "code",
   "execution_count": 9,
   "metadata": {},
   "outputs": [
    {
     "data": {
      "text/plain": [
       "18"
      ]
     },
     "execution_count": 9,
     "metadata": {},
     "output_type": "execute_result"
    }
   ],
   "source": [
    "len(dfs_imu.index.day.unique())"
   ]
  },
  {
   "cell_type": "code",
   "execution_count": 5,
   "metadata": {},
   "outputs": [
    {
     "data": {
      "text/plain": [
       "-993772109"
      ]
     },
     "execution_count": 5,
     "metadata": {},
     "output_type": "execute_result"
    }
   ],
   "source": [
    "timestamp"
   ]
  },
  {
   "cell_type": "code",
   "execution_count": 6,
   "metadata": {},
   "outputs": [
    {
     "data": {
      "text/plain": [
       "'10.oimu'"
      ]
     },
     "execution_count": 6,
     "metadata": {},
     "output_type": "execute_result"
    }
   ],
   "source": [
    "file"
   ]
  }
 ],
 "metadata": {
  "kernelspec": {
   "display_name": "Python 3",
   "language": "python",
   "name": "python3"
  },
  "language_info": {
   "codemirror_mode": {
    "name": "ipython",
    "version": 3
   },
   "file_extension": ".py",
   "mimetype": "text/x-python",
   "name": "python",
   "nbconvert_exporter": "python",
   "pygments_lexer": "ipython3",
   "version": "3.6.6"
  }
 },
 "nbformat": 4,
 "nbformat_minor": 2
}
